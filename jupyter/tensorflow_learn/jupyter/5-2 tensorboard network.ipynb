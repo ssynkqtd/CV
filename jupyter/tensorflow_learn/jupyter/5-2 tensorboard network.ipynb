{
 "cells": [
  {
   "cell_type": "code",
   "execution_count": 1,
   "metadata": {},
   "outputs": [],
   "source": [
    "import tensorflow as tf\n",
    "from tensorflow.examples.tutorials.mnist import  input_data"
   ]
  },
  {
   "cell_type": "code",
   "execution_count": 2,
   "metadata": {
    "scrolled": false
   },
   "outputs": [
    {
     "name": "stdout",
     "output_type": "stream",
     "text": [
      "Extracting MNIST_data/train-images-idx3-ubyte.gz\n",
      "Extracting MNIST_data/train-labels-idx1-ubyte.gz\n",
      "Extracting MNIST_data/t10k-images-idx3-ubyte.gz\n",
      "Extracting MNIST_data/t10k-labels-idx1-ubyte.gz\n",
      "Iter 0, Testing Accuracy 0.8984, Learning Rate 0.0009\n"
     ]
    }
   ],
   "source": [
    "with tf.device('/cpu:0'):\n",
    "    #dataset\n",
    "    mnist = input_data.read_data_sets(\"MNIST_data\", one_hot=True)\n",
    "\n",
    "    # \n",
    "    batch_size = 100\n",
    "    #\n",
    "    n_batch = mnist.train.num_examples   //batch_size\n",
    "\n",
    "    with tf.name_scope('input'):\n",
    "        x = tf.placeholder(tf.float32, [None, 784], name='x-input')\n",
    "        y = tf.placeholder(tf.float32, [None, 10], name='y-input')\n",
    "    # keep_prob = tf.placeholder(tf.float32)\n",
    "    lr = tf.Variable(0.001, dtype=tf.float32)\n",
    "\n",
    "    #creat a network\n",
    "    # W1 = tf.Variable(tf.truncated_normal([784,500], stddev=0.1))\n",
    "    # b1 = tf.Variable(tf.zeros([500])+0.1)\n",
    "    # L1 = tf.nn.tanh(tf.matmul(x,W1)+b1)\n",
    "    # L1_drop = tf.nn.dropout(L1, keep_prob)\n",
    "\n",
    "    # W2 = tf.Variable(tf.truncated_normal([500,300], stddev=0.1))\n",
    "    # b2 = tf.Variable(tf.zeros([300])+0.1)\n",
    "    # L2 = tf.nn.tanh(tf.matmul(L1_drop,W2)+b2)\n",
    "    # L2_drop = tf.nn.dropout(L2, keep_prob)\n",
    "\n",
    "    # W4 = tf.Variable(tf.truncated_normal([300,10], stddev=0.1))\n",
    "    # b4 = tf.Variable(tf.zeros([10])+0.1)\n",
    "    # prediction = tf.nn.softmax(tf.matmul(x,W4)+b4)\n",
    "\n",
    "    # a simple network\n",
    "    W = tf.Variable(tf.zeros([784,10]))\n",
    "    b = tf.Variable(tf.zeros([10]))\n",
    "    prediction = tf.nn.softmax(tf.matmul(x,W)+b)\n",
    "\n",
    "    loss = tf.reduce_mean(tf.nn.softmax_cross_entropy_with_logits_v2(labels=y, logits=prediction))\n",
    "\n",
    "    train_step = tf.train.AdamOptimizer(lr).minimize(loss)\n",
    "\n",
    "    init = tf.global_variables_initializer()\n",
    "\n",
    "    correct_prediction = tf.equal(tf.argmax(y,1), tf.argmax(prediction,1))\n",
    "\n",
    "    accuracy = tf.reduce_mean(tf.cast(correct_prediction, tf.float32))\n",
    "\n",
    "\n",
    "    with tf.Session() as sess:\n",
    "        sess.run(init)\n",
    "        writer = tf.summary.FileWriter('logs/', sess.graph)\n",
    "        for epoch in range(1):\n",
    "    #         sess.run(tf.assign(lr, 0.001 * (0.95 ** epoch)))\n",
    "            sess.run(tf.assign(lr, lr * (0.9 )))\n",
    "            for batch in range (n_batch):\n",
    "                batch_xs, batch_ys = mnist.train.next_batch(batch_size)\n",
    "                sess.run(train_step, feed_dict={x:batch_xs, y:batch_ys}) #, keep_prob:1.0\n",
    "\n",
    "            learning_rate = sess.run(lr)\n",
    "            test_acc = sess.run(accuracy, feed_dict={x:mnist.test.images, y:mnist.test.labels}) #, keep_prob:1.0\n",
    "    #         train_acc = sess.run(accuracy, feed_dict={x:mnist.train.images, y:mnist.train.labels, keep_prob:1.0})\n",
    "            print(\"Iter \"+ str(epoch) + \", Testing Accuracy \"+ str(test_acc) + \", Learning Rate \"+ str(learning_rate))#"
   ]
  },
  {
   "cell_type": "code",
   "execution_count": null,
   "metadata": {},
   "outputs": [],
   "source": []
  }
 ],
 "metadata": {
  "kernelspec": {
   "display_name": "Python 2",
   "language": "python",
   "name": "python2"
  },
  "language_info": {
   "codemirror_mode": {
    "name": "ipython",
    "version": 2
   },
   "file_extension": ".py",
   "mimetype": "text/x-python",
   "name": "python",
   "nbconvert_exporter": "python",
   "pygments_lexer": "ipython2",
   "version": "2.7.12"
  }
 },
 "nbformat": 4,
 "nbformat_minor": 2
}
